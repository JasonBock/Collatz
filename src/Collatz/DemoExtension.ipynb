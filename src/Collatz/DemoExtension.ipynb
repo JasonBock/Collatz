{
 "cells": [
  {
   "cell_type": "markdown",
   "metadata": {},
   "source": [
    "First, let's load the package locally. The directory used for the `#i` command will changed based on where you build it locally. Also, make the NuGet package version number is correct (at the time of authoring this document, it was `0.2.1`)."
   ]
  },
  {
   "cell_type": "code",
   "execution_count": null,
   "metadata": {
    "dotnet_interactive": {
     "language": "csharp"
    }
   },
   "outputs": [
    {
     "data": {
      "text/html": [
       "<div><div><strong>Restore sources</strong><ul><li><span>C:\\Users\\jason\\source\\repos\\Collatz\\src\\Collatz.Interactive\\bin\\Release</span></li></ul></div><div></div><div><strong>Installed Packages</strong><ul><li><span>Collatz.Interactive, 0.2.1</span></li></ul></div></div>"
      ]
     },
     "metadata": {},
     "output_type": "display_data"
    },
    {
     "data": {
      "text/markdown": [
       "Loading extensions from `XPlot.Plotly.Interactive.dll`"
      ]
     },
     "metadata": {},
     "output_type": "display_data"
    },
    {
     "data": {
      "text/markdown": [
       "Configuring PowerShell Kernel for XPlot.Plotly integration."
      ]
     },
     "metadata": {},
     "output_type": "display_data"
    },
    {
     "data": {
      "text/markdown": [
       "Installed support for XPlot.Plotly."
      ]
     },
     "metadata": {},
     "output_type": "display_data"
    }
   ],
   "source": [
    "#i nuget:C:\\Users\\jason\\source\\repos\\Collatz\\src\\Collatz.Interactive\\bin\\Release\n",
    "#r \"nuget:Collatz.Interactive, 0.2.1\""
   ]
  },
  {
   "cell_type": "markdown",
   "metadata": {},
   "source": [
    "If all is well, you should be able to get help for this new extension:"
   ]
  },
  {
   "cell_type": "code",
   "execution_count": null,
   "metadata": {
    "dotnet_interactive": {
     "language": "csharp"
    }
   },
   "outputs": [],
   "source": [
    "#!collatz -h"
   ]
  },
  {
   "cell_type": "markdown",
   "metadata": {},
   "source": [
    "Let's try to run it!"
   ]
  },
  {
   "cell_type": "code",
   "execution_count": null,
   "metadata": {
    "dotnet_interactive": {
     "language": "csharp"
    }
   },
   "outputs": [
    {
     "ename": "Error",
     "evalue": "Required command was not provided.\r\nUnrecognized command or argument '#!collatz'\r\nUnrecognized command or argument '--start'\r\nUnrecognized command or argument '444'",
     "output_type": "error",
     "traceback": [
      "Required command was not provided.\r\n",
      "Unrecognized command or argument '#!collatz'\r\n",
      "Unrecognized command or argument '--start'\r\n",
      "Unrecognized command or argument '444'"
     ]
    }
   ],
   "source": [
    "#!collatz --start 444"
   ]
  }
 ],
 "metadata": {
  "kernelspec": {
   "display_name": ".NET (C#)",
   "language": "C#",
   "name": ".net-csharp"
  },
  "language_info": {
   "file_extension": ".cs",
   "mimetype": "text/x-csharp",
   "name": "C#",
   "pygments_lexer": "csharp",
   "version": "9.0"
  },
  "orig_nbformat": 4
 },
 "nbformat": 4,
 "nbformat_minor": 2
}
