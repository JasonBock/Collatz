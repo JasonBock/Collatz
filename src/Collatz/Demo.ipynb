{
  "cells": [
    {
      "cell_type": "markdown",
      "metadata": {},
      "source": [
        "Let's go through how Collatz works. First, here's the mathematical definition, which can be found [here](https://en.wikipedia.org/wiki/Collatz_conjecture):"
      ]
    },
    {
      "cell_type": "markdown",
      "metadata": {},
      "source": [
        "![image](Collatz.png)"
      ]
    },
    {
      "cell_type": "markdown",
      "metadata": {},
      "source": [
        "As you can see, it takes an integer, and either divides it by `2` if it's even, or multiplies it by `3` and adds `1` if it's odd (in the odd case, it will always produce an even number, which is why it immediately divides the result by `2`). The initial number for `n` must be greater than or equal to `1`.\n",
        "\n",
        "The conjecture states that for any `n`, the sequence will eventually converge to `1` (once you reach `1`, you end up in a loop of `2` and then back to `1` again - this is considered \"termination\")."
      ]
    },
    {
      "cell_type": "code",
      "execution_count": null,
      "metadata": {
        "dotnet_interactive": {
          "language": "csharp"
        }
      },
      "outputs": [
        {
          "data": {
            "text/html": [
              "<div><div></div><div></div><div><strong>Installed Packages</strong><ul><li><span>Collatz, 0.1.0</span></li><li><span>XPlot.Plotly.Interactive, 4.0.4</span></li></ul></div></div>"
            ]
          },
          "metadata": {},
          "output_type": "display_data"
        },
        {
          "data": {
            "text/html": [
              "<!DOCTYPE html>\r\n",
              "<div style=\"width: 900px; height: 500px;\" id=\"cf6434a2-781c-46c4-a955-cbe3d8406914\"></div><script type=\"text/javascript\">\r\n",
              "\n",
              "var renderPlotly = function() {\n",
              "    var xplotRequire = require.config({context:'xplot-3.0.1',paths:{plotly:'https://cdn.plot.ly/plotly-1.49.2.min'}}) || require;\n",
              "    xplotRequire(['plotly'], function(Plotly) { \r\n",
              "\n",
              "            var data = [{\"type\":\"scatter\",\"x\":[0,1,2,3,4,5,6,7,8,9,10,11,12,13,14,15,16,17,18,19,20,21,22,23,24,25,26,27,28,29,30,31,32,33,34,35,36,37,38,39,40,41,42,43,44,45,46,47,48,49,50,51,52,53,54,55,56,57,58,59,60,61,62,63,64,65,66,67,68,69,70,71],\"y\":[55,83,125,188,94,47,71,107,161,242,121,182,91,137,206,103,155,233,350,175,263,395,593,890,445,668,334,167,251,377,566,283,425,638,319,479,719,1079,1619,2429,3644,1822,911,1367,2051,3077,4616,2308,1154,577,866,433,650,325,488,244,122,61,92,46,23,35,53,80,40,20,10,5,8,4,2,1]}];\n",
              "           var layout = \"\";\n",
              "           Plotly.newPlot('cf6434a2-781c-46c4-a955-cbe3d8406914', data, layout);\n",
              "        \r\n",
              "});\n",
              "};\r\n",
              "// ensure `require` is available globally\r\n",
              "if ((typeof(require) !==  typeof(Function)) || (typeof(require.config) !== typeof(Function))) {\r\n",
              "    let require_script = document.createElement('script');\r\n",
              "    require_script.setAttribute('src', 'https://cdnjs.cloudflare.com/ajax/libs/require.js/2.3.6/require.min.js');\r\n",
              "    require_script.setAttribute('type', 'text/javascript');\r\n",
              "    \r\n",
              "    \r\n",
              "    require_script.onload = function() {\r\n",
              "        renderPlotly();\r\n",
              "    };\r\n",
              "\r\n",
              "    document.getElementsByTagName('head')[0].appendChild(require_script);\r\n",
              "}\r\n",
              "else {\r\n",
              "    renderPlotly();\r\n",
              "}\r\n",
              "\r\n",
              "</script>\r\n"
            ]
          },
          "metadata": {},
          "output_type": "display_data"
        }
      ],
      "source": [
        "#r \"nuget: XPlot.Plotly.Interactive, 4.0.4\"\n",
        "#r \"nuget: Collatz, 0.1.0\"\n",
        "\n",
        "using Collatz;\n",
        "using XPlot.Plotly;\n",
        "\n",
        "var position = 0;\n",
        "var sequence = CollatzSequenceGenerator.Generate(55)\n",
        "\t.Select(_ => Tuple.Create(position++, (long)_));\n",
        "\n",
        "var chart = Chart.Line(sequence); \n",
        "\n",
        "chart.Display();"
      ]
    }
  ],
  "metadata": {
    "kernelspec": {
      "display_name": ".NET (C#)",
      "language": "C#",
      "name": ".net-csharp"
    },
    "language_info": {
      "file_extension": ".cs",
      "mimetype": "text/x-csharp",
      "name": "C#",
      "pygments_lexer": "csharp",
      "version": "8.0"
    }
  },
  "nbformat": 4,
  "nbformat_minor": 4
}
