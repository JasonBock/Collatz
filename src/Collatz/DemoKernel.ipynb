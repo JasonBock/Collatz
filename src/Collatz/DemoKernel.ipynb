{
 "cells": [
  {
   "cell_type": "code",
   "execution_count": 1,
   "metadata": {
    "dotnet_interactive": {
     "language": "csharp"
    }
   },
   "outputs": [
    {
     "data": {
      "text/html": [
       "<div><div></div><div></div><div><strong>Installed Packages</strong><ul><li><span>Collatz, 1.0.0</span></li><li><span>XPlot.Plotly.Interactive, 4.0.6</span></li></ul></div></div>"
      ]
     },
     "metadata": {},
     "output_type": "display_data"
    },
    {
     "data": {
      "text/plain": [
       "Loading extensions from `C:\\Users\\jason\\.nuget\\packages\\xplot.plotly.interactive\\4.0.6\\interactive-extensions\\dotnet\\XPlot.Plotly.Interactive.dll`"
      ]
     },
     "metadata": {},
     "output_type": "display_data"
    },
    {
     "ename": "Error",
     "evalue": "Failed to load kernel extension \"KernelExtension\" from assembly C:\\Users\\jason\\.nuget\\packages\\xplot.plotly.interactive\\4.0.6\\interactive-extensions\\dotnet\\XPlot.Plotly.Interactive.dll",
     "output_type": "error",
     "traceback": [
      "Failed to load kernel extension \"KernelExtension\" from assembly C:\\Users\\jason\\.nuget\\packages\\xplot.plotly.interactive\\4.0.6\\interactive-extensions\\dotnet\\XPlot.Plotly.Interactive.dll"
     ]
    },
    {
     "ename": "Error",
     "evalue": "Microsoft.DotNet.Interactive.KernelExtensionLoadException: Failure loading Kernel Extension\r\n ---> System.MissingMethodException: Method not found: 'Microsoft.DotNet.Interactive.DisplayedValue Microsoft.DotNet.Interactive.KernelInvocationContextExtensions.DisplayAs(Microsoft.DotNet.Interactive.KernelInvocationContext, System.String, System.String, System.String[])'.\r\n   at XPlot.Plotly.Interactive.KernelExtension.Microsoft.DotNet.Interactive.IKernelExtension.OnLoadAsync(Kernel kernel)\r\n   at Microsoft.DotNet.Interactive.App.PackageDirectoryExtensionLoader.LoadFromAssemblyFile(FileInfo assemblyFile, Kernel kernel, KernelInvocationContext context) in D:\\a\\_work\\1\\s\\src\\dotnet-interactive\\PackageDirectoryExtensionLoader.cs:line 116\r\n   --- End of inner exception stack trace ---",
     "output_type": "error",
     "traceback": [
      "Microsoft.DotNet.Interactive.KernelExtensionLoadException: Failure loading Kernel Extension\r\n",
      " ---> System.MissingMethodException: Method not found: 'Microsoft.DotNet.Interactive.DisplayedValue Microsoft.DotNet.Interactive.KernelInvocationContextExtensions.DisplayAs(Microsoft.DotNet.Interactive.KernelInvocationContext, System.String, System.String, System.String[])'.\r\n",
      "   at XPlot.Plotly.Interactive.KernelExtension.Microsoft.DotNet.Interactive.IKernelExtension.OnLoadAsync(Kernel kernel)\r\n",
      "   at Microsoft.DotNet.Interactive.App.PackageDirectoryExtensionLoader.LoadFromAssemblyFile(FileInfo assemblyFile, Kernel kernel, KernelInvocationContext context) in D:\\a\\_work\\1\\s\\src\\dotnet-interactive\\PackageDirectoryExtensionLoader.cs:line 116\r\n",
      "   --- End of inner exception stack trace ---"
     ]
    }
   ],
   "source": [
    "#r \"nuget: XPlot.Plotly.Interactive, 4.0.6\"\n",
    "#r \"nuget: Collatz, 1.0.0\"\n",
    "\n",
    "using Collatz;\n",
    "using Microsoft.DotNet.Interactive;\n",
    "using Microsoft.DotNet.Interactive.Commands;\n",
    "using System.Numerics;\n",
    "using XPlot.Plotly;\n",
    "\n",
    "public sealed class CollatzKernel\n",
    "\t: Kernel, IKernelCommandHandler<SubmitCode>\n",
    "{\n",
    "\tpublic CollatzKernel() : base(\"collatz\") { }\n",
    "\n",
    "\tpublic Task HandleAsync(SubmitCode command, KernelInvocationContext context)\n",
    "\t{\n",
    "\t\tvar position = 0;\n",
    "\t\tvar sequence = CollatzSequenceGenerator.Generate(BigInteger.Parse(command.Code))\n",
    "\t\t\t.Select(_ => Tuple.Create(position++, (long)_));\n",
    "\n",
    "\t\tvar chart = Chart.Line(sequence);\n",
    "\n",
    "\t\tchart.Display(); \n",
    "\t\t\n",
    "\t\treturn Task.CompletedTask;\n",
    "\t}\n",
    "}"
   ]
  },
  {
   "cell_type": "code",
   "execution_count": 6,
   "metadata": {
    "dotnet_interactive": {
     "language": "csharp"
    }
   },
   "outputs": [
    {
     "ename": "Error",
     "evalue": "System.ArgumentException: Alias '#!collatz' is already in use.\r\n   at Microsoft.DotNet.Interactive.Parsing.SubmissionParser.AddDirective(Command command) in D:\\a\\_work\\1\\s\\src\\Microsoft.DotNet.Interactive\\Parsing\\SubmissionParser.cs:line 592\r\n   at Microsoft.DotNet.Interactive.Kernel.AddDirective(Command command) in D:\\a\\_work\\1\\s\\src\\Microsoft.DotNet.Interactive\\Kernel.cs:line 289\r\n   at Microsoft.DotNet.Interactive.CompositeKernel.AddChooseKernelDirective(Kernel kernel) in D:\\a\\_work\\1\\s\\src\\Microsoft.DotNet.Interactive\\CompositeKernel.cs:line 109\r\n   at Microsoft.DotNet.Interactive.CompositeKernel.Add(Kernel kernel, IEnumerable`1 aliases) in D:\\a\\_work\\1\\s\\src\\Microsoft.DotNet.Interactive\\CompositeKernel.cs:line 74\r\n   at Submission#5.<<Initialize>>d__0.MoveNext()\r\n--- End of stack trace from previous location ---\r\n   at Microsoft.CodeAnalysis.Scripting.ScriptExecutionState.RunSubmissionsAsync[TResult](ImmutableArray`1 precedingExecutors, Func`2 currentExecutor, StrongBox`1 exceptionHolderOpt, Func`2 catchExceptionOpt, CancellationToken cancellationToken)",
     "output_type": "error",
     "traceback": [
      "System.ArgumentException: Alias '#!collatz' is already in use.\r\n",
      "   at Microsoft.DotNet.Interactive.Parsing.SubmissionParser.AddDirective(Command command) in D:\\a\\_work\\1\\s\\src\\Microsoft.DotNet.Interactive\\Parsing\\SubmissionParser.cs:line 592\r\n",
      "   at Microsoft.DotNet.Interactive.Kernel.AddDirective(Command command) in D:\\a\\_work\\1\\s\\src\\Microsoft.DotNet.Interactive\\Kernel.cs:line 289\r\n",
      "   at Microsoft.DotNet.Interactive.CompositeKernel.AddChooseKernelDirective(Kernel kernel) in D:\\a\\_work\\1\\s\\src\\Microsoft.DotNet.Interactive\\CompositeKernel.cs:line 109\r\n",
      "   at Microsoft.DotNet.Interactive.CompositeKernel.Add(Kernel kernel, IEnumerable`1 aliases) in D:\\a\\_work\\1\\s\\src\\Microsoft.DotNet.Interactive\\CompositeKernel.cs:line 74\r\n",
      "   at Submission#5.<<Initialize>>d__0.MoveNext()\r\n",
      "--- End of stack trace from previous location ---\r\n",
      "   at Microsoft.CodeAnalysis.Scripting.ScriptExecutionState.RunSubmissionsAsync[TResult](ImmutableArray`1 precedingExecutors, Func`2 currentExecutor, StrongBox`1 exceptionHolderOpt, Func`2 catchExceptionOpt, CancellationToken cancellationToken)"
     ]
    }
   ],
   "source": [
    "((CompositeKernel)Kernel.Root).Add(new CollatzKernel());"
   ]
  },
  {
   "cell_type": "code",
   "execution_count": 4,
   "metadata": {
    "dotnet_interactive": {
     "language": "csharp"
    }
   },
   "outputs": [
    {
     "data": {
      "text/html": [
       "<details open=\"open\" class=\"dni-treeview\"><summary><span class=\"dni-code-hint\"><code>XPlot.Plotly.PlotlyChart</code></span></summary><div><table><thead><tr></tr></thead><tbody><tr><td>Height</td><td><div class=\"dni-plaintext\"><pre>500</pre></div></td></tr><tr><td>Id</td><td>79ee8b9c-5131-4536-9aba-5faa9f26180e</td></tr><tr><td>PlotlySrc</td><td>https://cdn.plot.ly/plotly-latest.min.js</td></tr><tr><td>Width</td><td><div class=\"dni-plaintext\"><pre>900</pre></div></td></tr></tbody></table></div></details><style>\r\n",
       ".dni-code-hint {\r\n",
       "    font-style: italic;\r\n",
       "    overflow: hidden;\r\n",
       "    white-space: nowrap;\r\n",
       "}\r\n",
       ".dni-treeview {\r\n",
       "    white-space: nowrap;\r\n",
       "}\r\n",
       ".dni-treeview td {\r\n",
       "    vertical-align: top;\r\n",
       "    text-align: start;\r\n",
       "}\r\n",
       "details.dni-treeview {\r\n",
       "    padding-left: 1em;\r\n",
       "}\r\n",
       "table td {\r\n",
       "    text-align: start;\r\n",
       "}\r\n",
       "table tr { \r\n",
       "    vertical-align: top; \r\n",
       "    margin: 0em 0px;\r\n",
       "}\r\n",
       "table tr td pre \r\n",
       "{ \r\n",
       "    vertical-align: top !important; \r\n",
       "    margin: 0em 0px !important;\r\n",
       "} \r\n",
       "table th {\r\n",
       "    text-align: start;\r\n",
       "}\r\n",
       "</style>"
      ]
     },
     "metadata": {},
     "output_type": "display_data"
    }
   ],
   "source": [
    "#!collatz\n",
    "42"
   ]
  }
 ],
 "metadata": {
  "kernelspec": {
   "display_name": ".NET (C#)",
   "language": "C#",
   "name": ".net-csharp"
  },
  "language_info": {
   "file_extension": ".cs",
   "mimetype": "text/x-csharp",
   "name": "polyglot-notebook",
   "pygments_lexer": "csharp",
   "version": "9.0"
  },
  "orig_nbformat": 4,
  "polyglot_notebook": {
   "kernelInfo": {
    "defaultKernelName": "csharp",
    "items": [
     {
      "aliases": [],
      "name": "collatz"
     },
     {
      "aliases": [],
      "name": "csharp"
     }
    ]
   }
  }
 },
 "nbformat": 4,
 "nbformat_minor": 2
}
