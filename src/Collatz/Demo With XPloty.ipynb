{
 "cells": [
  {
   "attachments": {},
   "cell_type": "markdown",
   "metadata": {},
   "source": [
    "Let's go through how Collatz works. First, here's the mathematical definition, which can be found [here](https://en.wikipedia.org/wiki/Collatz_conjecture):"
   ]
  },
  {
   "attachments": {},
   "cell_type": "markdown",
   "metadata": {},
   "source": [
    "![image](Collatz.png)"
   ]
  },
  {
   "attachments": {},
   "cell_type": "markdown",
   "metadata": {},
   "source": [
    "As you can see, it takes an integer, and either divides it by `2` if it's even, or multiplies it by `3` and adds `1` if it's odd (in the odd case, it will always produce an even number, which is why it immediately divides the result by `2`). The initial number for `n` must be greater than or equal to `1`.\n",
    "\n",
    "The conjecture states that for any `n`, the sequence will eventually converge to `1` (once you reach `1`, you end up in a loop of `2` and then back to `1` again - this is considered \"termination\").\n",
    "\n",
    "Let's see how a sequence converges using our Collatz package along with [Ploty](https://plotly.com/fsharp/). First, we reference the packages. Next, we call `Generate()` on `CollatzSequenceGenerator`, passing in our starting value. We transform the sequence to a `Tuple`, providing the position for the x-axis, and the value for the y-axis. Note that we have to transform the `BigInteger` to a `long` as Ploty doesn't seem to like `BigInteger`. Then we create a line graph with our data set, and `Display()` it.\n",
    "\n",
    "Try it out! Change the value passed in to `Generate()` and see what you get. Note that the larger you make the starting value, the longer it may take to render. Here are some random starting values and their iteration length:\n",
    "\n",
    "* `300_000` - `39`\n",
    "* `27` - `70`\n",
    "* `670_617_279` - `616`\n",
    "* `989_345_275_647` - `842`"
   ]
  },
  {
   "cell_type": "code",
   "execution_count": 3,
   "metadata": {
    "dotnet_interactive": {
     "language": "csharp"
    }
   },
   "outputs": [
    {
     "data": {
      "text/html": [
       "<div><div></div><div></div><div><strong>Installed Packages</strong><ul><li><span>Collatz, 1.0.0</span></li><li><span>XPlot.Plotly.Interactive, 4.0.7</span></li></ul></div></div>"
      ]
     },
     "metadata": {},
     "output_type": "display_data"
    },
    {
     "name": "stdout",
     "output_type": "stream",
     "text": [
      "444, 222, 111, 167, 251, 377, 566, 283, 425, 638, 319, 479, 719, 1079, 1619, 2429, 3644, 1822, 911, 1367, 2051, 3077, 4616, 2308, 1154, 577, 866, 433, 650, 325, 488, 244, 122, 61, 92, 46, 23, 35, 53, 80, 40, 20, 10, 5, 8, 4, 2, 1\r\n"
     ]
    },
    {
     "data": {
      "text/html": [
       "<!DOCTYPE html>\r\n",
       "<div style=\"width: 900px; height: 500px;\" id=\"33081fa5-3530-42d2-8693-8cb1e896dce4\"></div><script type=\"text/javascript\">\r\n",
       "\n",
       "var renderPlotly = function() {\n",
       "    var xplotRequire = require.config({context:'xplot-3.0.1',paths:{plotly:'https://cdn.plot.ly/plotly-1.49.2.min'}}) || require;\n",
       "    xplotRequire(['plotly'], function(Plotly) { \r\n",
       "\n",
       "            var data = [{\"type\":\"scatter\",\"x\":[0,1,2,3,4,5,6,7,8,9,10,11,12,13,14,15,16,17,18,19,20,21,22,23,24,25,26,27,28,29,30,31,32,33,34,35,36,37,38,39,40,41,42,43,44,45,46,47],\"y\":[444,222,111,167,251,377,566,283,425,638,319,479,719,1079,1619,2429,3644,1822,911,1367,2051,3077,4616,2308,1154,577,866,433,650,325,488,244,122,61,92,46,23,35,53,80,40,20,10,5,8,4,2,1]}];\n",
       "           var layout = \"\";\n",
       "           Plotly.newPlot('33081fa5-3530-42d2-8693-8cb1e896dce4', data, layout);\n",
       "        \r\n",
       "});\n",
       "};\r\n",
       "// ensure `require` is available globally\r\n",
       "if ((typeof(require) !==  typeof(Function)) || (typeof(require.config) !== typeof(Function))) {\r\n",
       "    let require_script = document.createElement('script');\r\n",
       "    require_script.setAttribute('src', 'https://cdnjs.cloudflare.com/ajax/libs/require.js/2.3.6/require.min.js');\r\n",
       "    require_script.setAttribute('type', 'text/javascript');\r\n",
       "    \r\n",
       "    \r\n",
       "    require_script.onload = function() {\r\n",
       "        renderPlotly();\r\n",
       "    };\r\n",
       "\r\n",
       "    document.getElementsByTagName('head')[0].appendChild(require_script);\r\n",
       "}\r\n",
       "else {\r\n",
       "    renderPlotly();\r\n",
       "}\r\n",
       "\r\n",
       "</script>\r\n"
      ]
     },
     "metadata": {},
     "output_type": "display_data"
    }
   ],
   "source": [
    "#r \"nuget: XPlot.Plotly.Interactive, 4.0.7\"\n",
    "#r \"nuget: Collatz, 1.0.0\"\n",
    "\n",
    "using Collatz;\n",
    "using XPlot.Plotly;\n",
    "\n",
    "var position = 0;\n",
    "var sequence = CollatzSequenceGenerator.Generate(444);\n",
    "\n",
    "Console.WriteLine(string.Join(\", \", sequence));\n",
    "\n",
    "var chartSequence = sequence.Select(\n",
    "\t_ => Tuple.Create(position++, (long)_));\n",
    "\n",
    "var chart = Chart.Line(chartSequence); \n",
    "\n",
    "chart.Display();"
   ]
  }
 ],
 "metadata": {
  "kernelspec": {
   "display_name": ".NET (C#)",
   "language": "C#",
   "name": ".net-csharp"
  },
  "language_info": {
   "name": "polyglot-notebook"
  },
  "polyglot_notebook": {
   "kernelInfo": {
    "defaultKernelName": "csharp",
    "items": [
     {
      "aliases": [],
      "name": ".NET"
     },
     {
      "aliases": [
       "C#",
       "c#"
      ],
      "languageName": "C#",
      "name": "csharp"
     },
     {
      "aliases": [
       "F#",
       "f#"
      ],
      "languageName": "F#",
      "name": "fsharp"
     },
     {
      "aliases": [],
      "languageName": "HTML",
      "name": "html"
     },
     {
      "aliases": [
       "js"
      ],
      "languageName": "JavaScript",
      "name": "javascript"
     },
     {
      "aliases": [],
      "languageName": "KQL",
      "name": "kql"
     },
     {
      "aliases": [],
      "languageName": "Mermaid",
      "name": "mermaid"
     },
     {
      "aliases": [
       "powershell"
      ],
      "languageName": "PowerShell",
      "name": "pwsh"
     },
     {
      "aliases": [],
      "languageName": "SQL",
      "name": "sql"
     },
     {
      "aliases": [],
      "name": "value"
     },
     {
      "aliases": [
       "frontend"
      ],
      "name": "vscode"
     },
     {
      "aliases": [],
      "name": "webview"
     }
    ]
   }
  }
 },
 "nbformat": 4,
 "nbformat_minor": 2
}
