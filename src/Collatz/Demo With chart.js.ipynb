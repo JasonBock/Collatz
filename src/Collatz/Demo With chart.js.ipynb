{
 "cells": [
  {
   "attachments": {},
   "cell_type": "markdown",
   "metadata": {},
   "source": [
    "Let's go through how Collatz works. First, here's the mathematical definition, which can be found [here](https://en.wikipedia.org/wiki/Collatz_conjecture):"
   ]
  },
  {
   "attachments": {},
   "cell_type": "markdown",
   "metadata": {},
   "source": [
    "![image](Collatz.png)"
   ]
  },
  {
   "attachments": {},
   "cell_type": "markdown",
   "metadata": {},
   "source": [
    "As you can see, it takes an integer, and either divides it by `2` if it's even, or multiplies it by `3` and adds `1` if it's odd (in the odd case, it will always produce an even number, which is why it immediately divides the result by `2`). The initial number for `n` must be greater than or equal to `1`.\n",
    "\n",
    "The conjecture states that for any `n`, the sequence will eventually converge to `1` (once you reach `1`, you end up in a loop of `2` and then back to `1` again - this is considered \"termination\").\n",
    "\n",
    "Let's see how a sequence converges using our Collatz package along with [Ploty](https://plotly.com/fsharp/). First, we reference the packages. Next, we call `Generate()` on `CollatzSequenceGenerator`, passing in our starting value. We transform the sequence to a `Tuple`, providing the position for the x-axis, and the value for the y-axis. Note that we have to transform the `BigInteger` to a `long` as Ploty doesn't seem to like `BigInteger`. Then we create a line graph with our data set, and `Display()` it.\n",
    "\n",
    "Try it out! Change the value passed in to `Generate()` and see what you get. Note that the larger you make the starting value, the longer it may take to render. Here are some random starting values and their iteration length:\n",
    "\n",
    "* `300_000` - `39`\n",
    "* `27` - `70`\n",
    "* `670_617_279` - `616`\n",
    "* `989_345_275_647` - `842`"
   ]
  },
  {
   "cell_type": "code",
   "execution_count": 9,
   "metadata": {
    "dotnet_interactive": {
     "language": "csharp"
    }
   },
   "outputs": [
    {
     "data": {
      "text/html": [
       "<div><div></div><div></div><div><strong>Installed Packages</strong><ul><li><span>Collatz, 1.0.0</span></li></ul></div></div>"
      ]
     },
     "metadata": {},
     "output_type": "display_data"
    },
    {
     "name": "stdout",
     "output_type": "stream",
     "text": [
      "423, 635, 953, 1430, 715, 1073, 1610, 805, 1208, 604, 302, 151, 227, 341, 512, 256, 128, 64, 32, 16, 8, 4, 2, 1\n",
      "1, 2, 3, 4, 5, 6, 7, 8, 9, 10, 11, 12, 13, 14, 15, 16, 17, 18, 19, 20, 21, 22, 23, 24\n"
     ]
    }
   ],
   "source": [
    "#r \"nuget: Collatz, 1.0.0\"\n",
    "\n",
    "using Collatz;\n",
    "using System.Collections.Immutable;\n",
    "using XPlot.Plotly;\n",
    "\n",
    "var position = 0;\n",
    "var sequence = CollatzSequenceGenerator.Generate(423)\n",
    "\t.Select(_ => (int)_).ToImmutableArray();\n",
    "var sequenceLabels = Enumerable.Range(1, sequence.Length).Select(_ => _.ToString()).ToArray();\n",
    "\n",
    "Console.WriteLine(string.Join(\", \", sequence));\n",
    "Console.WriteLine(string.Join(\", \", sequenceLabels));"
   ]
  },
  {
   "cell_type": "markdown",
   "metadata": {},
   "source": [
    "Let's use chart.js to visualize the data. First, we need a couple of HTML elements."
   ]
  },
  {
   "cell_type": "code",
   "execution_count": 24,
   "metadata": {
    "dotnet_interactive": {
     "language": "html"
    },
    "polyglot_notebook": {
     "kernelName": "html"
    }
   },
   "outputs": [
    {
     "data": {
      "text/html": [
       "<canvas id=\"chartCanvas\" width=\"800\" height=\"600\"></canvas>"
      ]
     },
     "metadata": {},
     "output_type": "display_data"
    }
   ],
   "source": [
    "<canvas id=\"chartCanvas\" width=\"800\" height=\"600\"></canvas>"
   ]
  },
  {
   "cell_type": "markdown",
   "metadata": {},
   "source": [
    "Next, we need to run a bit of JavaScript."
   ]
  },
  {
   "cell_type": "code",
   "execution_count": 30,
   "metadata": {
    "dotnet_interactive": {
     "language": "javascript"
    },
    "polyglot_notebook": {
     "kernelName": "javascript"
    }
   },
   "outputs": [
    {
     "data": {
      "application/json": [
       423,
       635,
       953,
       1430,
       715,
       1073,
       1610,
       805,
       1208,
       604,
       302,
       151,
       227,
       341,
       512,
       256,
       128,
       64,
       32,
       16,
       8,
       4,
       2,
       1
      ]
     },
     "metadata": {},
     "output_type": "display_data"
    },
    {
     "data": {
      "application/json": [
       "1",
       "2",
       "3",
       "4",
       "5",
       "6",
       "7",
       "8",
       "9",
       "10",
       "11",
       "12",
       "13",
       "14",
       "15",
       "16",
       "17",
       "18",
       "19",
       "20",
       "21",
       "22",
       "23",
       "24"
      ]
     },
     "metadata": {},
     "output_type": "display_data"
    }
   ],
   "source": [
    "#!set --value @csharp:sequence --name data\n",
    "#!set --value @csharp:sequenceLabels --name labels\n",
    "\n",
    "var chartJs = await import('https://cdn.jsdelivr.net/npm/chart.js@2.8.0/+esm');\n",
    "\n",
    "console.log(data);\n",
    "console.log(labels);\n",
    "\n",
    "new Chart(document.getElementById('chartCanvas'), {\n",
    "    type: 'line',\n",
    "    data: {\n",
    "        labels: labels,\n",
    "        datasets: [{\n",
    "            label: 'Values',\n",
    "            data: data,\n",
    "        }]\n",
    "    },\n",
    "    options: {\n",
    "        responsive: false\n",
    "    }\n",
    "});"
   ]
  }
 ],
 "metadata": {
  "kernelspec": {
   "display_name": ".NET (C#)",
   "language": "C#",
   "name": ".net-csharp"
  },
  "language_info": {
   "name": "polyglot-notebook"
  },
  "polyglot_notebook": {
   "kernelInfo": {
    "defaultKernelName": "csharp",
    "items": [
     {
      "aliases": [],
      "name": ".NET"
     },
     {
      "aliases": [
       "C#",
       "c#"
      ],
      "languageName": "C#",
      "name": "csharp"
     },
     {
      "aliases": [
       "F#",
       "f#"
      ],
      "languageName": "F#",
      "name": "fsharp"
     },
     {
      "aliases": [],
      "languageName": "HTML",
      "name": "html"
     },
     {
      "aliases": [
       "js"
      ],
      "languageName": "JavaScript",
      "name": "javascript"
     },
     {
      "aliases": [],
      "languageName": "KQL",
      "name": "kql"
     },
     {
      "aliases": [],
      "languageName": "Mermaid",
      "name": "mermaid"
     },
     {
      "aliases": [
       "powershell"
      ],
      "languageName": "PowerShell",
      "name": "pwsh"
     },
     {
      "aliases": [],
      "languageName": "SQL",
      "name": "sql"
     },
     {
      "aliases": [],
      "name": "value"
     },
     {
      "aliases": [
       "frontend"
      ],
      "name": "vscode"
     },
     {
      "aliases": [],
      "name": "webview"
     }
    ]
   }
  }
 },
 "nbformat": 4,
 "nbformat_minor": 2
}
