{
 "cells": [
  {
   "attachments": {},
   "cell_type": "markdown",
   "metadata": {},
   "source": [
    "First, let's load the package:"
   ]
  },
  {
   "cell_type": "code",
   "execution_count": 4,
   "metadata": {
    "dotnet_interactive": {
     "language": "csharp"
    }
   },
   "outputs": [
    {
     "data": {
      "text/html": [
       "<div><div></div><div></div><div><strong>Installed Packages</strong><ul><li><span>Collatz.Interactive, 1.1.0</span></li></ul></div></div>"
      ]
     },
     "metadata": {},
     "output_type": "display_data"
    }
   ],
   "source": [
    "#r \"nuget:Collatz.Interactive, 1.1.0\""
   ]
  },
  {
   "attachments": {},
   "cell_type": "markdown",
   "metadata": {},
   "source": [
    "You can also load it locally doing something like this (you'll need to change the path based on where you downloaded the [Collatz repository](https://github.com/JasonBock/Collatz))\n",
    "```\n",
    "#i nuget:C:\\YourDirectoryThatContainsTheCollatzRepo\\Collatz.Interactive\\bin\\Release\n",
    "#r \"nuget:Collatz.Interactive, 1.0.1\"\n",
    "```\n",
    "\n",
    "If all is well, you should be able to get help for this new extension:"
   ]
  },
  {
   "cell_type": "code",
   "execution_count": 2,
   "metadata": {
    "dotnet_interactive": {
     "language": "csharp"
    }
   },
   "outputs": [
    {
     "name": "stdout",
     "output_type": "stream",
     "text": [
      "Description:\r\n",
      "  Displays a chart of the Collatz sequence.\r\n",
      "\r\n",
      "Usage:\r\n",
      "  #!collatz [options]\r\n",
      "\r\n",
      "Options:\r\n",
      "  -s, --start <start>  The starting value of the sequence\r\n",
      "  -?, -h, --help       Show help and usage information\r\n",
      "\r\n",
      "\r\n"
     ]
    }
   ],
   "source": [
    "#!collatz -h"
   ]
  },
  {
   "attachments": {},
   "cell_type": "markdown",
   "metadata": {},
   "source": [
    "Let's try to run it!"
   ]
  },
  {
   "cell_type": "code",
   "execution_count": 6,
   "metadata": {
    "dotnet_interactive": {
     "language": "csharp"
    }
   },
   "outputs": [
    {
     "data": {
      "text/html": [
       "<!DOCTYPE html>\r\n",
       "<div style=\"width: 900px; height: 500px;\" id=\"07151b6d-1bfc-49da-b1ae-c690828fe2fe\"></div><script type=\"text/javascript\">\r\n",
       "\n",
       "var renderPlotly = function() {\n",
       "    var xplotRequire = require.config({context:'xplot-3.0.1',paths:{plotly:'https://cdn.plot.ly/plotly-1.49.2.min'}}) || require;\n",
       "    xplotRequire(['plotly'], function(Plotly) { \r\n",
       "\n",
       "            var data = [{\"type\":\"scatter\",\"x\":[0,1,2,3,4,5,6,7,8,9,10,11,12,13,14,15,16,17,18,19,20,21,22,23,24,25,26,27,28,29,30,31,32,33,34,35,36,37,38,39,40,41,42,43,44,45,46,47,48,49,50,51,52,53,54,55,56,57,58,59,60,61,62,63,64,65,66,67,68,69,70,71,72,73,74,75,76,77,78,79,80,81,82,83,84,85,86,87,88,89,90,91,92,93,94,95,96,97,98,99,100,101,102,103,104,105,106,107,108,109,110,111,112,113,114,115,116,117,118,119,120,121,122,123,124,125,126,127,128,129,130,131,132,133],\"y\":[44344,22172,11086,5543,8315,12473,18710,9355,14033,21050,10525,15788,7894,3947,5921,8882,4441,6662,3331,4997,7496,3748,1874,937,1406,703,1055,1583,2375,3563,5345,8018,4009,6014,3007,4511,6767,10151,15227,22841,34262,17131,25697,38546,19273,28910,14455,21683,32525,48788,24394,12197,18296,9148,4574,2287,3431,5147,7721,11582,5791,8687,13031,19547,29321,43982,21991,32987,49481,74222,37111,55667,83501,125252,62626,31313,46970,23485,35228,17614,8807,13211,19817,29726,14863,22295,33443,50165,75248,37624,18812,9406,4703,7055,10583,15875,23813,35720,17860,8930,4465,6698,3349,5024,2512,1256,628,314,157,236,118,59,89,134,67,101,152,76,38,19,29,44,22,11,17,26,13,20,10,5,8,4,2,1]}];\n",
       "           var layout = \"\";\n",
       "           Plotly.newPlot('07151b6d-1bfc-49da-b1ae-c690828fe2fe', data, layout);\n",
       "        \r\n",
       "});\n",
       "};\r\n",
       "// ensure `require` is available globally\r\n",
       "if ((typeof(require) !==  typeof(Function)) || (typeof(require.config) !== typeof(Function))) {\r\n",
       "    let require_script = document.createElement('script');\r\n",
       "    require_script.setAttribute('src', 'https://cdnjs.cloudflare.com/ajax/libs/require.js/2.3.6/require.min.js');\r\n",
       "    require_script.setAttribute('type', 'text/javascript');\r\n",
       "    \r\n",
       "    \r\n",
       "    require_script.onload = function() {\r\n",
       "        renderPlotly();\r\n",
       "    };\r\n",
       "\r\n",
       "    document.getElementsByTagName('head')[0].appendChild(require_script);\r\n",
       "}\r\n",
       "else {\r\n",
       "    renderPlotly();\r\n",
       "}\r\n",
       "\r\n",
       "</script>\r\n"
      ]
     },
     "metadata": {},
     "output_type": "display_data"
    }
   ],
   "source": [
    "#!collatz -s 44344"
   ]
  }
 ],
 "metadata": {
  "kernelspec": {
   "display_name": ".NET (C#)",
   "language": "C#",
   "name": ".net-csharp"
  },
  "language_info": {
   "name": "polyglot-notebook"
  },
  "polyglot_notebook": {
   "kernelInfo": {
    "defaultKernelName": "csharp",
    "items": [
     {
      "aliases": [],
      "name": "csharp"
     }
    ]
   }
  }
 },
 "nbformat": 4,
 "nbformat_minor": 2
}
